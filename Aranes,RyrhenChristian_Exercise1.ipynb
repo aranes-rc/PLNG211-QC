{
  "nbformat": 4,
  "nbformat_minor": 0,
  "metadata": {
    "colab": {
      "provenance": [],
      "authorship_tag": "ABX9TyPjc7SAIkrRlTz8Zux2PuQJ",
      "include_colab_link": true
    },
    "kernelspec": {
      "name": "python3",
      "display_name": "Python 3"
    },
    "language_info": {
      "name": "python"
    }
  },
  "cells": [
    {
      "cell_type": "markdown",
      "metadata": {
        "id": "view-in-github",
        "colab_type": "text"
      },
      "source": [
        "<a href=\"https://colab.research.google.com/github/aranes-rc/PLNG211-QC/blob/main/Aranes%2CRyrhenChristian_Exercise1.ipynb\" target=\"_parent\"><img src=\"https://colab.research.google.com/assets/colab-badge.svg\" alt=\"Open In Colab\"/></a>"
      ]
    },
    {
      "cell_type": "code",
      "execution_count": 2,
      "metadata": {
        "colab": {
          "base_uri": "https://localhost:8080/"
        },
        "id": "boq1nRFxI5XU",
        "outputId": "2eb32bb4-daaf-45b5-d062-cb2a6eed31de"
      },
      "outputs": [
        {
          "output_type": "stream",
          "name": "stdout",
          "text": [
            "186\n"
          ]
        }
      ],
      "source": [
        "testScores = [26,49,98,87,62,75]\n",
        "\n",
        "sum = 0\n",
        "for score in testScores:\n",
        "  if score % 2 == 0:\n",
        "    sum += score\n",
        "  \n",
        "print(sum)"
      ]
    }
  ]
}