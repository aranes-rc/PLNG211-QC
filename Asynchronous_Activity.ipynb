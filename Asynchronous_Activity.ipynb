{
  "nbformat": 4,
  "nbformat_minor": 0,
  "metadata": {
    "colab": {
      "provenance": [],
      "authorship_tag": "ABX9TyOO94vSBS4pCIambQELLo5m",
      "include_colab_link": true
    },
    "kernelspec": {
      "name": "python3",
      "display_name": "Python 3"
    },
    "language_info": {
      "name": "python"
    }
  },
  "cells": [
    {
      "cell_type": "markdown",
      "metadata": {
        "id": "view-in-github",
        "colab_type": "text"
      },
      "source": [
        "<a href=\"https://colab.research.google.com/github/aranes-rc/PLNG211-QC/blob/main/Asynchronous_Activity.ipynb\" target=\"_parent\"><img src=\"https://colab.research.google.com/assets/colab-badge.svg\" alt=\"Open In Colab\"/></a>"
      ]
    },
    {
      "cell_type": "code",
      "execution_count": 1,
      "metadata": {
        "colab": {
          "base_uri": "https://localhost:8080/"
        },
        "id": "6BDPnWoLMFcN",
        "outputId": "0b18f7bb-66bd-4419-b691-b3d7e7aa491e"
      },
      "outputs": [
        {
          "output_type": "stream",
          "name": "stdout",
          "text": [
            "0\n",
            "2\n",
            "4\n"
          ]
        }
      ],
      "source": [
        "for var in range(0,5,2):\n",
        "  print(var)"
      ]
    },
    {
      "cell_type": "code",
      "source": [
        "for var in range(0,5+1):\n",
        "  print(var)"
      ],
      "metadata": {
        "colab": {
          "base_uri": "https://localhost:8080/"
        },
        "id": "jz7v_ZkAMNYf",
        "outputId": "ed1b0fec-4884-4d51-b103-8b4b0a80577e"
      },
      "execution_count": 2,
      "outputs": [
        {
          "output_type": "stream",
          "name": "stdout",
          "text": [
            "0\n",
            "1\n",
            "2\n",
            "3\n",
            "4\n",
            "5\n"
          ]
        }
      ]
    },
    {
      "cell_type": "code",
      "source": [
        "for var in range(5):\n",
        "  print(var)"
      ],
      "metadata": {
        "id": "kjEuJtgBMPw-"
      },
      "execution_count": null,
      "outputs": []
    },
    {
      "cell_type": "code",
      "source": [
        "#Asynchronous Activity\n",
        "\n",
        "salary_rate = 600\n",
        "salary = salary_rate * 15\n",
        "taxable_amount = 0.3 * salary\n",
        "net_pay = salary - taxable_amount"
      ],
      "metadata": {
        "colab": {
          "base_uri": "https://localhost:8080/"
        },
        "id": "xrEVEbjRMuV2",
        "outputId": "edf947e1-a487-4bc9-983c-e766ebffdf5f"
      },
      "execution_count": 5,
      "outputs": [
        {
          "output_type": "execute_result",
          "data": {
            "text/plain": [
              "6300.0"
            ]
          },
          "metadata": {},
          "execution_count": 5
        }
      ]
    }
  ]
}