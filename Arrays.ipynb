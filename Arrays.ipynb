{
  "nbformat": 4,
  "nbformat_minor": 0,
  "metadata": {
    "colab": {
      "provenance": [],
      "collapsed_sections": [],
      "authorship_tag": "ABX9TyPeWlTqJGn9bzExIJrTYWiB",
      "include_colab_link": true
    },
    "kernelspec": {
      "name": "python3",
      "display_name": "Python 3"
    },
    "language_info": {
      "name": "python"
    }
  },
  "cells": [
    {
      "cell_type": "markdown",
      "metadata": {
        "id": "view-in-github",
        "colab_type": "text"
      },
      "source": [
        "<a href=\"https://colab.research.google.com/github/aranes-rc/PLNG211-QC/blob/main/Arrays.ipynb\" target=\"_parent\"><img src=\"https://colab.research.google.com/assets/colab-badge.svg\" alt=\"Open In Colab\"/></a>"
      ]
    },
    {
      "cell_type": "code",
      "execution_count": 3,
      "metadata": {
        "colab": {
          "base_uri": "https://localhost:8080/"
        },
        "id": "00lwOKe62nQm",
        "outputId": "e5af8e35-a08f-417a-9c02-a8f40fba7dd5"
      },
      "outputs": [
        {
          "output_type": "stream",
          "name": "stdout",
          "text": [
            "The animals are:  ['cat', 'dog', 'fish']\n",
            "The animal in the first position in the list is  cat\n"
          ]
        }
      ],
      "source": [
        "#Accessing/Indexing elements from an array\n",
        "animals = [\"cat\", \"dog\", \"fish\"]\n",
        "print(\"The animals are: \", animals)\n",
        "print(\"The animal in the first position in the list is \", animals[0])"
      ]
    },
    {
      "cell_type": "code",
      "source": [
        "#Modifying elements in an array\n",
        "animals = [\"cat\", \"dog\", \"fish\"]\n",
        "animals[0] = 'monkey'\n",
        "print(animals)"
      ],
      "metadata": {
        "colab": {
          "base_uri": "https://localhost:8080/"
        },
        "id": "uL-sBdPd6w9l",
        "outputId": "e87f02db-1c9c-4b78-8501-7d0d69359ce1"
      },
      "execution_count": 7,
      "outputs": [
        {
          "output_type": "stream",
          "name": "stdout",
          "text": [
            "['monkey', 'dog', 'fish']\n"
          ]
        }
      ]
    },
    {
      "cell_type": "code",
      "source": [
        "#Length of an array\n",
        "animals = [\"cat\", \"dog\", \"fish\"]\n",
        "x = len(animals)\n",
        "print(x)"
      ],
      "metadata": {
        "colab": {
          "base_uri": "https://localhost:8080/"
        },
        "id": "Pce7yUJv7LmW",
        "outputId": "ebcea5fa-4718-4a6e-fe9e-dd7a7de49053"
      },
      "execution_count": 4,
      "outputs": [
        {
          "output_type": "stream",
          "name": "stdout",
          "text": [
            "3\n"
          ]
        }
      ]
    },
    {
      "cell_type": "code",
      "source": [
        "#Looping in an array\n",
        "animals = [\"cat\", \"dog\", \"fish\"]\n",
        "\n",
        "for x in animals:\n",
        "  print(x)"
      ],
      "metadata": {
        "id": "UthY6St37mwl"
      },
      "execution_count": null,
      "outputs": []
    },
    {
      "cell_type": "code",
      "source": [
        "#Adding elements in an array\n",
        "animals = [\"cat\", \"dog\", \"fish\"]\n",
        "animals.insert(1, \"Monkey\")\n",
        "print(animals)\n",
        "\n",
        "animals.append(\"bird\")\n",
        "print(animals)"
      ],
      "metadata": {
        "colab": {
          "base_uri": "https://localhost:8080/"
        },
        "id": "esIMpJ1I8Ldt",
        "outputId": "64303815-2b15-496e-ac18-874b2a258fa3"
      },
      "execution_count": 16,
      "outputs": [
        {
          "output_type": "stream",
          "name": "stdout",
          "text": [
            "['cat', 'Monkey', 'dog', 'fish']\n",
            "['cat', 'Monkey', 'dog', 'fish', 'bird']\n"
          ]
        }
      ]
    },
    {
      "cell_type": "code",
      "source": [
        "#Removing elements in an array\n",
        "# animals.reverse()\n",
        "animals.pop(1)\n",
        "print(animals)"
      ],
      "metadata": {
        "colab": {
          "base_uri": "https://localhost:8080/"
        },
        "id": "EqLk-5M28eNr",
        "outputId": "894854d8-bd76-4dd3-b0ff-30eca5cae973"
      },
      "execution_count": 17,
      "outputs": [
        {
          "output_type": "stream",
          "name": "stdout",
          "text": [
            "['cat', 'dog', 'fish', 'bird']\n"
          ]
        }
      ]
    }
  ]
}