{
  "nbformat": 4,
  "nbformat_minor": 0,
  "metadata": {
    "colab": {
      "provenance": [],
      "authorship_tag": "ABX9TyMk6ANWE7sh6PMdrDvo2Tll",
      "include_colab_link": true
    },
    "kernelspec": {
      "name": "python3",
      "display_name": "Python 3"
    },
    "language_info": {
      "name": "python"
    }
  },
  "cells": [
    {
      "cell_type": "markdown",
      "metadata": {
        "id": "view-in-github",
        "colab_type": "text"
      },
      "source": [
        "<a href=\"https://colab.research.google.com/github/aranes-rc/PLNG211-QC/blob/main/Python_Functions.ipynb\" target=\"_parent\"><img src=\"https://colab.research.google.com/assets/colab-badge.svg\" alt=\"Open In Colab\"/></a>"
      ]
    },
    {
      "cell_type": "code",
      "execution_count": null,
      "metadata": {
        "id": "p2W1QimGMtNP",
        "colab": {
          "base_uri": "https://localhost:8080/"
        },
        "outputId": "03a57b6b-8b19-4ac7-f83b-54505b0c50ec"
      },
      "outputs": [
        {
          "output_type": "stream",
          "name": "stdout",
          "text": [
            "100\n",
            "37.77777777777778\n"
          ]
        }
      ],
      "source": [
        "def convert_to_celcius(fahrenheit):\n",
        "  return (fahrenheit - 32) * 5/9\n",
        "\n",
        "fahrenheit = float(input())\n",
        "print(\"Celcius:\", convert_to_celcius(fahrenheit))\n",
        "print(\"Kelvin:\", convert_to_celcius(fahrenheit))"
      ]
    },
    {
      "cell_type": "code",
      "source": [
        "def myFunction(name):\n",
        "  return name + \" Sayo\"\n",
        "\n",
        "print(myFunction(\"Mam\"))"
      ],
      "metadata": {
        "colab": {
          "base_uri": "https://localhost:8080/"
        },
        "id": "PlwH6nfuSF84",
        "outputId": "3dacd1ca-0dd6-4b79-be0b-b3d04888562c"
      },
      "execution_count": 8,
      "outputs": [
        {
          "output_type": "stream",
          "name": "stdout",
          "text": [
            "Mam Sayo\n"
          ]
        }
      ]
    },
    {
      "cell_type": "code",
      "source": [
        "def xFunc(x):\n",
        "  return 5 + x\n",
        "\n",
        "x = int(input(\"Enter input: \"))\n",
        "print(xFunc(x))"
      ],
      "metadata": {
        "colab": {
          "base_uri": "https://localhost:8080/"
        },
        "id": "s4hI3sbNSSab",
        "outputId": "430641e5-0a9d-49a4-e340-d92ee33f087a"
      },
      "execution_count": 9,
      "outputs": [
        {
          "output_type": "stream",
          "name": "stdout",
          "text": [
            "Enter input: 5\n",
            "10\n"
          ]
        }
      ]
    },
    {
      "cell_type": "markdown",
      "source": [
        "EXERCISE 1"
      ],
      "metadata": {
        "id": "Dru2KPowTexp"
      }
    },
    {
      "cell_type": "code",
      "source": [
        "# Exercise 1\n",
        "min(2, 3, 4)\n",
        "max(2, -3, 4, 7, -5)\n",
        "max(2, -3, min(4, 7), -5)"
      ],
      "metadata": {
        "id": "k_WuvpfZTbtx"
      },
      "execution_count": null,
      "outputs": []
    },
    {
      "cell_type": "markdown",
      "source": [
        "EXERCISE 2"
      ],
      "metadata": {
        "id": "m8mGioOLTrIP"
      }
    },
    {
      "cell_type": "code",
      "source": [
        "# Exercise 2\n",
        "def sumOfThree(num1: int, num2: int, num3: int):\n",
        "  return num1 + num2 + num3\n",
        "\n",
        "def averageOfThree(num1: int, num2: int, num3: int):\n",
        "  return (num1 + num2 + num3) / 3\n",
        "\n",
        "def sumOfSquaredThree(num1: int, num2: int, num3: int):\n",
        "  return pow(num1, 2) + pow(num2, 2) + pow(num3, 2)\n",
        "\n",
        "num1 = int(input(\"Enter num1: \"))\n",
        "num2 = int(input(\"Enter num2: \"))\n",
        "num3 = int(input(\"Enter num3: \"))\n",
        "\n",
        "print(\"\\nSum:\", sumOfThree(num1, num2, num3))\n",
        "print(\"Average:\", averageOfThree(num1, num2, num3))\n",
        "print(\"Sum of squares:\", sumOfSquaredThree(num1, num2, num3))"
      ],
      "metadata": {
        "colab": {
          "base_uri": "https://localhost:8080/"
        },
        "id": "J2d2uIFKTq1c",
        "outputId": "98e56319-4376-49c4-ec5b-c2fb97d9d34c"
      },
      "execution_count": 11,
      "outputs": [
        {
          "output_type": "stream",
          "name": "stdout",
          "text": [
            "Enter num1: 2\n",
            "Enter num2: 3\n",
            "Enter num3: 4\n",
            "\n",
            "Sum: 9\n",
            "Average: 3.0\n",
            "Sum of squares: 29\n"
          ]
        }
      ]
    }
  ]
}