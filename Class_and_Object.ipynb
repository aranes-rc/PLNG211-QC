{
  "nbformat": 4,
  "nbformat_minor": 0,
  "metadata": {
    "colab": {
      "provenance": [],
      "authorship_tag": "ABX9TyOsCTHI5t7LulHEtOm5C0qF",
      "include_colab_link": true
    },
    "kernelspec": {
      "name": "python3",
      "display_name": "Python 3"
    },
    "language_info": {
      "name": "python"
    }
  },
  "cells": [
    {
      "cell_type": "markdown",
      "metadata": {
        "id": "view-in-github",
        "colab_type": "text"
      },
      "source": [
        "<a href=\"https://colab.research.google.com/github/aranes-rc/PLNG211-QC/blob/main/Class_and_Object.ipynb\" target=\"_parent\"><img src=\"https://colab.research.google.com/assets/colab-badge.svg\" alt=\"Open In Colab\"/></a>"
      ]
    },
    {
      "cell_type": "markdown",
      "source": [
        "Implementing OOP in Python using real-life Animals"
      ],
      "metadata": {
        "id": "8Os4Imh-Yxem"
      }
    },
    {
      "cell_type": "code",
      "execution_count": 11,
      "metadata": {
        "colab": {
          "base_uri": "https://localhost:8080/"
        },
        "id": "hSyKxhx-Qb--",
        "outputId": "dfa310d3-d18e-4462-a4f2-4dcf511afa87"
      },
      "outputs": [
        {
          "output_type": "stream",
          "name": "stdout",
          "text": [
            "It is moving\n",
            "It is moving\n",
            "It has found a plant and is now eating it.\n"
          ]
        }
      ],
      "source": [
        "class Animal:\n",
        "  hunger = 10\n",
        "  food = {\n",
        "      \"carnivore\": \"meat\",\n",
        "      \"herbivore\": \"plant\"\n",
        "  }\n",
        "\n",
        "  def __init__(self, isCarnivore):\n",
        "    self.isCarnivore = isCarnivore\n",
        "  \n",
        "  def move(self):\n",
        "    if self.hunger <= 0:\n",
        "      print(\"It cannot move anymore, it needs to eat!\")\n",
        "      return\n",
        "    \n",
        "    self.hunger -= 1\n",
        "    print(\"It is moving\")\n",
        "\n",
        "  def eat(self):\n",
        "    foundFood = self.food[\"carnivore\"] if self.isCarnivore else self.food[\"herbivore\"]\n",
        "    print(f\"It has found a { foundFood } and is now eating it.\")\n",
        "    self.hunger += 2\n",
        "\n",
        "\n",
        "animal = Animal(False)\n",
        "animal.move()\n",
        "animal.move()\n",
        "animal.eat()\n"
      ]
    },
    {
      "cell_type": "code",
      "source": [
        "# Inheritance\n",
        "\n",
        "class Bird(Animal):\n",
        "  def __init__(self):\n",
        "    super().__init__(False)\n",
        "  \n",
        "  def fly(self):\n",
        "    if self.hunger <= 0:\n",
        "      print(\"It cannot fly anymore, it needs to eat!\")\n",
        "      return\n",
        "    \n",
        "    self.hunger -= 3\n",
        "    print(\"It is flying\")\n",
        "  \n",
        "  def chirp(self):\n",
        "    print(\"Chirp! Chirp!\")\n",
        "\n",
        "class Tiger(Animal):\n",
        "  def __init__(self):\n",
        "    super().__init__(True)\n",
        "  \n",
        "  def hunt(self):\n",
        "    print(\"Lurking for meat...\")\n",
        "    self.roar()\n",
        "    print(\"It latched on a bird!\")\n",
        "    super().eat()\n",
        "  \n",
        "  def roar(self):\n",
        "    print(\"ROAAAAAAAAR! ROOOOOOAR!!\")\n",
        "\n",
        "bird = Bird()\n",
        "tiger = Tiger()\n",
        "\n",
        "bird.move()\n",
        "bird.fly()\n",
        "bird.fly()\n",
        "bird.eat()\n",
        "\n",
        "print(\"\")\n",
        "\n",
        "tiger.move()\n",
        "tiger.move()\n",
        "tiger.hunt()"
      ],
      "metadata": {
        "colab": {
          "base_uri": "https://localhost:8080/"
        },
        "id": "kp-ML8mYUTp2",
        "outputId": "d3f157ec-d360-4f86-bdda-78ec8f6e5e1d"
      },
      "execution_count": 18,
      "outputs": [
        {
          "output_type": "stream",
          "name": "stdout",
          "text": [
            "It is moving\n",
            "It is flying\n",
            "It is flying\n",
            "It has found a plant and is now eating it.\n",
            "\n",
            "It is moving\n",
            "It is moving\n",
            "Lurking for meat...\n",
            "ROAAAAAAAAR! ROOOOOOAR!!\n",
            "It latched on a bird!\n",
            "It has found a meat and is now eating it.\n"
          ]
        }
      ]
    },
    {
      "cell_type": "code",
      "source": [
        "# Modifying object\n",
        "tiger.isCarnivore = False # Makes the tiger herbivore\n",
        "bird.hunger = 10 # Makes the bird's stomach full\n",
        "\n",
        "# Deleting attribute/object\n",
        "try:\n",
        "  tiger.roar()\n",
        "  del tiger.hunger # Deleting hunger means killing the tiger\n",
        "  print(tiger.hunger)\n",
        "except:\n",
        "  print(\"The tiger seems to be dead?\")"
      ],
      "metadata": {
        "colab": {
          "base_uri": "https://localhost:8080/"
        },
        "id": "TFW4e61wXkdd",
        "outputId": "d0591f1a-c15d-489d-f577-6172b94aafae"
      },
      "execution_count": 25,
      "outputs": [
        {
          "output_type": "stream",
          "name": "stdout",
          "text": [
            "ROAAAAAAAAR! ROOOOOOAR!!\n",
            "The tiger seems to be dead?\n"
          ]
        }
      ]
    },
    {
      "cell_type": "markdown",
      "source": [
        "# Application 1"
      ],
      "metadata": {
        "id": "fxtZwAjDZBHO"
      }
    },
    {
      "cell_type": "code",
      "source": [
        "#Application 1. Write a Rectangle class in Python language with length and width as attributes\n",
        "#Create a Perimeter () and Area () as methods to compute for the perimeter and area of a rectangle\n",
        "\n",
        "class Rectangle:\n",
        "  def __init__(self, length, width):\n",
        "    self.length = length\n",
        "    self.width = width\n",
        "  \n",
        "  # P = 2 * (length + width)\n",
        "  def getPerimeter(self):\n",
        "    print(f\"This rectangle's perimeter is {2 * (self.length + self.width)}\")\n",
        "  \n",
        "  # A = length * width\n",
        "  def getArea(self):\n",
        "    print(f\"This rectangle's area is {self.length * self.width}\\n\")\n",
        "\n",
        "rectangle = Rectangle(2, 3)\n",
        "rectangle.getPerimeter()\n",
        "rectangle.getArea()\n",
        "\n",
        "rectangle = Rectangle(5, 10)\n",
        "rectangle.getPerimeter()\n",
        "rectangle.getArea()\n",
        "\n",
        "rectangle = Rectangle(9, 8)\n",
        "rectangle.getPerimeter()\n",
        "rectangle.getArea()"
      ],
      "metadata": {
        "colab": {
          "base_uri": "https://localhost:8080/"
        },
        "id": "yvi17IwtZEVO",
        "outputId": "9c3b7c98-3f32-442f-f119-b1fc64d61efa"
      },
      "execution_count": 30,
      "outputs": [
        {
          "output_type": "stream",
          "name": "stdout",
          "text": [
            "This rectangle's perimeter is 10\n",
            "This rectangle's area is 6\n",
            "\n",
            "This rectangle's perimeter is 30\n",
            "This rectangle's area is 50\n",
            "\n",
            "This rectangle's perimeter is 34\n",
            "This rectangle's area is 72\n",
            "\n"
          ]
        }
      ]
    }
  ]
}