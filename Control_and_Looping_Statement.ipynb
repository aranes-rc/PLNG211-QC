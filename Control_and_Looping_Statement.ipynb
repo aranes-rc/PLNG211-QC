{
  "nbformat": 4,
  "nbformat_minor": 0,
  "metadata": {
    "colab": {
      "provenance": [],
      "include_colab_link": true
    },
    "kernelspec": {
      "name": "python3",
      "display_name": "Python 3"
    },
    "language_info": {
      "name": "python"
    }
  },
  "cells": [
    {
      "cell_type": "markdown",
      "metadata": {
        "id": "view-in-github",
        "colab_type": "text"
      },
      "source": [
        "<a href=\"https://colab.research.google.com/github/aranes-rc/PLNG211-QC/blob/main/Control_and_Looping_Statement.ipynb\" target=\"_parent\"><img src=\"https://colab.research.google.com/assets/colab-badge.svg\" alt=\"Open In Colab\"/></a>"
      ]
    },
    {
      "cell_type": "code",
      "execution_count": 25,
      "metadata": {
        "id": "KQUj-ZCS2vlu"
      },
      "outputs": [],
      "source": [
        "#If Statement\n",
        "\n",
        "a =100\n",
        "b= 100\n",
        "\n",
        "if a<b:\n",
        "  print(\"a is less than b\")"
      ]
    },
    {
      "cell_type": "code",
      "source": [
        "#Elif Statement\n",
        "if a<b:\n",
        "  print('a is less than b')\n",
        "elif a>b:\n",
        "  print(\"a is greater than b\")"
      ],
      "metadata": {
        "id": "wLaNpvt03Vi3"
      },
      "execution_count": 28,
      "outputs": []
    },
    {
      "cell_type": "code",
      "source": [
        "if a<b:\n",
        "  print('a is less than b')\n",
        "elif a>b:\n",
        "  print(\"a is greater than b\")\n",
        "else:\n",
        "  print('a is equal to b')"
      ],
      "metadata": {
        "colab": {
          "base_uri": "https://localhost:8080/"
        },
        "id": "z8iysCH23_uY",
        "outputId": "90f2f63b-4703-4f9d-8c0b-d11b222c5497"
      },
      "execution_count": 27,
      "outputs": [
        {
          "output_type": "stream",
          "name": "stdout",
          "text": [
            "a is equal to b\n"
          ]
        }
      ]
    },
    {
      "cell_type": "code",
      "source": [
        "#Short Hand If Statement\n",
        "\n",
        "c = 5\n",
        "d = 10\n",
        "\n",
        "if c>d: print(\"c>d\")"
      ],
      "metadata": {
        "id": "P_twjCVC4lDk"
      },
      "execution_count": 6,
      "outputs": []
    },
    {
      "cell_type": "code",
      "source": [
        "#Short Hand If.. Else Statement\n",
        "print('c>d') if c>d else print('d>c')"
      ],
      "metadata": {
        "colab": {
          "base_uri": "https://localhost:8080/"
        },
        "id": "uhMJoazg5DRd",
        "outputId": "a7982f0e-1864-4cc4-bb21-92115bbfe307"
      },
      "execution_count": 7,
      "outputs": [
        {
          "output_type": "stream",
          "name": "stdout",
          "text": [
            "d>c\n"
          ]
        }
      ]
    },
    {
      "cell_type": "code",
      "source": [
        "#And Statement\n",
        "if 5>10 and 8>4:\n",
        "  print(\"both statements are true\")\n",
        "else:\n",
        "  print(\"one of the statements is false /both statements are not true\")\n"
      ],
      "metadata": {
        "id": "Ds0ZVLuv6NCk"
      },
      "execution_count": null,
      "outputs": []
    },
    {
      "cell_type": "code",
      "source": [
        "#Or Statement\n",
        "if 5>10 or 4 >8:\n",
        "  print('True')\n",
        "else:\n",
        "  print('False')"
      ],
      "metadata": {
        "colab": {
          "base_uri": "https://localhost:8080/"
        },
        "id": "sVjVEOPO65l_",
        "outputId": "0caa92d5-151f-4d23-b49f-0d6ffe84e40a"
      },
      "execution_count": 8,
      "outputs": [
        {
          "output_type": "stream",
          "name": "stdout",
          "text": [
            "False\n"
          ]
        }
      ]
    },
    {
      "cell_type": "code",
      "source": [
        "#Bitwise operator ^ (xor)\n",
        "e=4     #0100 in binary\n",
        "f= 2    #0010 in binary\n",
        "\n",
        "e^f \n"
      ],
      "metadata": {
        "colab": {
          "base_uri": "https://localhost:8080/"
        },
        "id": "OOv11KFl7r8y",
        "outputId": "c452e4e6-768f-46a7-b821-a43e7bc744a7"
      },
      "execution_count": 9,
      "outputs": [
        {
          "output_type": "execute_result",
          "data": {
            "text/plain": [
              "6"
            ]
          },
          "metadata": {},
          "execution_count": 9
        }
      ]
    },
    {
      "cell_type": "code",
      "source": [
        "#Nested If Statement\n",
        "\n",
        "x = 39\n",
        "if x>10:\n",
        "  print(\"number is above 10\")\n",
        "  if x>20:\n",
        "    print(\"number is above 20\")\n",
        "    if x>30:\n",
        "      print(\"number is above 30\")\n",
        "      if x>40:\n",
        "        print(\"number is above 40\")\n",
        "        if x>50:\n",
        "          print(\"number is above 50\")\n",
        "        else:\n",
        "          print(\"number is less than 50\")\n",
        "      else:\n",
        "        print(\"number is less than 40\")"
      ],
      "metadata": {
        "colab": {
          "base_uri": "https://localhost:8080/"
        },
        "id": "SN7dvJFM9gIo",
        "outputId": "819f185f-bbd8-440a-e946-b75d9bed4e77"
      },
      "execution_count": 10,
      "outputs": [
        {
          "output_type": "stream",
          "name": "stdout",
          "text": [
            "number is above 10\n",
            "number is above 20\n",
            "number is above 30\n",
            "number is less than 40\n"
          ]
        }
      ]
    },
    {
      "cell_type": "code",
      "source": [
        "#Application 1.Write a program that determines if the input age is qualified to vote or not. \n",
        "#The qualifying age is 18 years old and above.\n",
        "\n",
        "age = 18\n",
        "\n",
        "if age >= 18:\n",
        "\tprint(\"Qualified\")\n",
        "else:\n",
        "\tprint(\"Not qualified\")\n",
        " "
      ],
      "metadata": {
        "id": "T4OSAhS9_MZJ",
        "colab": {
          "base_uri": "https://localhost:8080/"
        },
        "outputId": "16cf153c-27be-4737-d3f6-db89a210f918"
      },
      "execution_count": 11,
      "outputs": [
        {
          "output_type": "stream",
          "name": "stdout",
          "text": [
            "Qualified\n"
          ]
        }
      ]
    },
    {
      "cell_type": "code",
      "source": [
        "#Application 2. Write a program that determines if the input number is POSITIVE, NEGATIVE, or Zero. \n",
        "\n",
        "number = 0\n",
        "\n",
        "if number > 0:\n",
        "  print(\"POSITIVE\")\n",
        "elif number < 0:\n",
        "  print(\"NEGATIVE\")\n",
        "else:\n",
        "  print(\"Zero\")"
      ],
      "metadata": {
        "id": "0w6eLDfzB9QV",
        "colab": {
          "base_uri": "https://localhost:8080/"
        },
        "outputId": "de30528a-22bc-455d-b350-f90b0790f33c"
      },
      "execution_count": 14,
      "outputs": [
        {
          "output_type": "stream",
          "name": "stdout",
          "text": [
            "Zero\n"
          ]
        }
      ]
    },
    {
      "cell_type": "code",
      "source": [
        "#For loop Statement\n",
        "week = [\"Sunday\", \"Monday\",\"Tuesday\",\"Wednesday\", \"Thursday\", \"Friday\", \"Saturday\"]\n",
        "\n",
        "for y in week:\n",
        "  print(y)"
      ],
      "metadata": {
        "colab": {
          "base_uri": "https://localhost:8080/"
        },
        "id": "lERezxtLCAHF",
        "outputId": "f3f03bde-099c-4d46-f498-c7ec8a28a118"
      },
      "execution_count": 15,
      "outputs": [
        {
          "output_type": "stream",
          "name": "stdout",
          "text": [
            "Sunday\n",
            "Monday\n",
            "Tuesday\n",
            "Wednesday\n",
            "Thursday\n",
            "Friday\n",
            "Saturday\n"
          ]
        }
      ]
    },
    {
      "cell_type": "code",
      "source": [
        "week = [\"Sunday\", \"Monday\",\"Tuesday\",\"Wednesday\", \"Thursday\", \"Friday\", \"Saturday\"]\n",
        "\n",
        "for y in week:\n",
        "  print(y)\n",
        "  if y == \"Thursday\":\n",
        "    break"
      ],
      "metadata": {
        "colab": {
          "base_uri": "https://localhost:8080/"
        },
        "id": "XeShhCufDrSr",
        "outputId": "e691ec67-5d7e-4bbe-9d35-5d4c1369452e"
      },
      "execution_count": 16,
      "outputs": [
        {
          "output_type": "stream",
          "name": "stdout",
          "text": [
            "Sunday\n",
            "Monday\n",
            "Tuesday\n",
            "Wednesday\n",
            "Thursday\n"
          ]
        }
      ]
    },
    {
      "cell_type": "code",
      "source": [
        "week = [\"Sunday\", \"Monday\",\"Tuesday\",\"Wednesday\", \"Thursday\", \"Friday\", \"Saturday\"]\n",
        "\n",
        "for y in week:\n",
        "  if y == \"Thursday\":\n",
        "    break\n",
        "  print(y)"
      ],
      "metadata": {
        "colab": {
          "base_uri": "https://localhost:8080/"
        },
        "id": "IS_hUe7_D0YT",
        "outputId": "5263973e-8d2b-47ee-b5a8-6a0ce7977a18"
      },
      "execution_count": 17,
      "outputs": [
        {
          "output_type": "stream",
          "name": "stdout",
          "text": [
            "Sunday\n",
            "Monday\n",
            "Tuesday\n",
            "Wednesday\n"
          ]
        }
      ]
    },
    {
      "cell_type": "code",
      "source": [
        "for x in \"week\":\n",
        "  print(x)"
      ],
      "metadata": {
        "colab": {
          "base_uri": "https://localhost:8080/"
        },
        "id": "Wlp1bzXmCsYE",
        "outputId": "125960b9-d36c-4232-e332-934576100116"
      },
      "execution_count": 18,
      "outputs": [
        {
          "output_type": "stream",
          "name": "stdout",
          "text": [
            "w\n",
            "e\n",
            "e\n",
            "k\n"
          ]
        }
      ]
    },
    {
      "cell_type": "code",
      "source": [
        "#range () function\n",
        "for x in range(6):\n",
        "  print(x)\n",
        "  "
      ],
      "metadata": {
        "colab": {
          "base_uri": "https://localhost:8080/"
        },
        "id": "CfvgYTDcFGVA",
        "outputId": "42893755-b969-4062-9670-4194c4662957"
      },
      "execution_count": 19,
      "outputs": [
        {
          "output_type": "stream",
          "name": "stdout",
          "text": [
            "0\n",
            "1\n",
            "2\n",
            "3\n",
            "4\n",
            "5\n"
          ]
        }
      ]
    },
    {
      "cell_type": "code",
      "source": [
        "for x in range(2,6+1,1):\n",
        "  print(x)"
      ],
      "metadata": {
        "colab": {
          "base_uri": "https://localhost:8080/"
        },
        "id": "8NgUgfcdFSpo",
        "outputId": "05a40d99-c154-4875-aa5a-83d33b7be942"
      },
      "execution_count": 20,
      "outputs": [
        {
          "output_type": "stream",
          "name": "stdout",
          "text": [
            "2\n",
            "3\n",
            "4\n",
            "5\n",
            "6\n"
          ]
        }
      ]
    },
    {
      "cell_type": "code",
      "source": [
        "adjective = [\"red\", \"big\", \"tasty\"]\n",
        "fruits = [\"apple\", \"banana\",\"cherry\"]\n",
        "for x in adjective:\n",
        "  for y in fruits:\n",
        "    print(x,y)"
      ],
      "metadata": {
        "colab": {
          "base_uri": "https://localhost:8080/"
        },
        "id": "wHSFDLCNGnch",
        "outputId": "14ba6936-abd7-4998-9c4e-5531f06c79da"
      },
      "execution_count": 21,
      "outputs": [
        {
          "output_type": "stream",
          "name": "stdout",
          "text": [
            "red apple\n",
            "red banana\n",
            "red cherry\n",
            "big apple\n",
            "big banana\n",
            "big cherry\n",
            "tasty apple\n",
            "tasty banana\n",
            "tasty cherry\n"
          ]
        }
      ]
    },
    {
      "cell_type": "code",
      "source": [
        "i = 1\n",
        "while i<=6:\n",
        "  print(i)\n",
        "  i+=1     #i = i +1"
      ],
      "metadata": {
        "colab": {
          "base_uri": "https://localhost:8080/"
        },
        "id": "7wqJKjqKHUzj",
        "outputId": "8214458b-ae88-42ea-d971-de13b08166f1"
      },
      "execution_count": 22,
      "outputs": [
        {
          "output_type": "stream",
          "name": "stdout",
          "text": [
            "1\n",
            "2\n",
            "3\n",
            "4\n",
            "5\n",
            "6\n"
          ]
        }
      ]
    },
    {
      "cell_type": "code",
      "source": [
        "i = 1\n",
        "while i<=6:\n",
        "  print(i)\n",
        "  if i ==3:\n",
        "    break\n",
        "  i+=1"
      ],
      "metadata": {
        "colab": {
          "base_uri": "https://localhost:8080/"
        },
        "id": "cMbWYUtBIFMK",
        "outputId": "0bb2ac04-e667-45e9-8acb-97e8a84aba59"
      },
      "execution_count": 23,
      "outputs": [
        {
          "output_type": "stream",
          "name": "stdout",
          "text": [
            "1\n",
            "2\n",
            "3\n"
          ]
        }
      ]
    },
    {
      "cell_type": "code",
      "source": [
        "# using while loop and break statement, the output is only 3\n",
        "\n",
        "i = 1\n",
        "while i<=6:\n",
        "  if i ==3:\n",
        "    print(i)\n",
        "    break\n",
        "  i+=1"
      ],
      "metadata": {
        "id": "CRVD4JFJIcDi",
        "colab": {
          "base_uri": "https://localhost:8080/"
        },
        "outputId": "022702e4-51be-469e-a1b6-fb43aa5503de"
      },
      "execution_count": 24,
      "outputs": [
        {
          "output_type": "stream",
          "name": "stdout",
          "text": [
            "3\n"
          ]
        }
      ]
    }
  ]
}